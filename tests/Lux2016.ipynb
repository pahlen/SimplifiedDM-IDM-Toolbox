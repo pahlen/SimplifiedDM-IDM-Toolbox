{
 "cells": [
  {
   "cell_type": "markdown",
   "metadata": {},
   "source": [
    "#  Inert doublet model\n",
    "Be sure to run [index_bash](../index_bash) first, in order to have all the required binaries"
   ]
  },
  {
   "cell_type": "code",
   "execution_count": 1,
   "metadata": {
    "collapsed": false
   },
   "outputs": [
    {
     "name": "stdout",
     "output_type": "stream",
     "text": [
      "Populating the interactive namespace from numpy and matplotlib\n"
     ]
    }
   ],
   "source": [
    "%pylab inline"
   ]
  },
  {
   "cell_type": "code",
   "execution_count": 2,
   "metadata": {
    "collapsed": false
   },
   "outputs": [],
   "source": [
    "import pandas as pd\n",
    "import numpy as np\n",
    "import os, sys, inspect\n",
    "import commands\n",
    "from hep import *\n",
    "import pdg_series\n",
    "#from indirectdirect import *\n",
    "from multicurvefit import *\n",
    "import time"
   ]
  },
  {
   "cell_type": "markdown",
   "metadata": {},
   "source": [
    "Define functions to change from general basis to physical basis "
   ]
  },
  {
   "cell_type": "code",
   "execution_count": 3,
   "metadata": {
    "collapsed": false
   },
   "outputs": [],
   "source": [
    "def phys_to_int(mH,mA,mHc,lambda_L,v):\n",
    "    '''\n",
    "    See arXiv:1003.3125\n",
    "    '''\n",
    "    mH2=mH*mH;mA2=mA*mA;mHc2=mHc*mHc;v2=v*v\n",
    "    lambda_5=(mH2-mA2)/v2\n",
    "    mu2=mH2-lambda_L*v2\n",
    "    lambda_3=2.*(mHc2-mu2)/v2\n",
    "    lambda_4=-lambda_3-lambda_5+2*lambda_L\n",
    "    return mu2,lambda_3,lambda_4,lambda_5\n",
    "\n",
    "def int_to_phys(mu2,lambda_3,lambda_4,lambda_5,v):\n",
    "    '''\n",
    "    See arXiv:1003.3125\n",
    "    '''\n",
    "    v2=v*v\n",
    "    tachyons=False\n",
    "    mHc2=mu2+lambda_3*v2/2.\n",
    "    if mHc2<0: tachyons=True\n",
    "    mH2=mu2+(lambda_3+lambda_4+lambda_5)*v2/2.\n",
    "    if mH2<0: tachyons=True\n",
    "    mA2=mu2+(lambda_3+lambda_4-lambda_5)*v2/2.\n",
    "    if mA2<0: tachyons=True\n",
    "    if tachyons: print \"Warning: Tachyionic masses\"\n",
    "    return np.sqrt(np.abs(np.array([mH2,mA2,mHc2]))),(lambda_3+lambda_4+lambda_5)/2 "
   ]
  },
  {
   "cell_type": "markdown",
   "metadata": {},
   "source": [
    "### SARAH implementation\n",
    "Based in [Scotogenic model implementation](https://github.com/restrepo/Scotogenic) by Avelino Vicente. Model files in the [SARAH/Models/SimplifiedDM/IDM](../SARAH/Models/SimplifiedDM/IDM) folder of this repo. We use below the python [hep](./hep.py) module to automalically manage input/output SARAH-Toolbox files (in a similar way to SSP)"
   ]
  },
  {
   "cell_type": "code",
   "execution_count": 4,
   "metadata": {
    "collapsed": false
   },
   "outputs": [],
   "source": [
    "a=hep(MODEL='SimplifiedDMIDM')"
   ]
  },
  {
   "cell_type": "markdown",
   "metadata": {},
   "source": [
    "`a-object` is an object with many attributes and methods. Use the tab to explore them. Some of them are\n",
    "* a.Series: [pandas](http://pandas.pydata.org/) Series object with the \"relevant\" variables \n",
    "* a.LHA: Input LesHouces file as [pyslha](https://pypi.python.org/pypi/pyslha/) object\n",
    "* a.runSPheno() -> a.LHA_out: return LHA output files as [pyslha](https://pypi.python.org/pypi/pyslha/) object\n",
    "* a.runmicromegas() -> a.runSPheno() -> Updated the `a-object`  with micrOMEGAS \"relevant\" output"
   ]
  },
  {
   "cell_type": "markdown",
   "metadata": {},
   "source": [
    "## Scan \n",
    "As in [arXiv:1605.01129](https://arxiv.org/abs/1605.01129) but for region of interest"
   ]
  },
  {
   "cell_type": "code",
   "execution_count": 9,
   "metadata": {
    "collapsed": false,
    "scrolled": true
   },
   "outputs": [
    {
     "name": "stdout",
     "output_type": "stream",
     "text": [
      "0\n"
     ]
    }
   ],
   "source": [
    "npoints=2\n",
    "df=pd.DataFrame()\n",
    "ipt=pd.Series({'MH0':40,'MA0':701,'MHC':701,'lambda_L':0.1})\n",
    "#SPHENO SETTINGS:\n",
    "a.LHA.blocks['SPHENOINPUT'].entries[55]='0               # Calculate one loop masses'\n",
    "dm_masses=np.linspace(60,75,npoints)\n",
    "for MH0 in dm_masses:\n",
    "    ps=pd.Series()\n",
    "    if np.where(dm_masses==MH0)[0][0]%10==0: #find the index of the array entry\n",
    "        print np.where(dm_masses==MH0)[0][0]\n",
    "        \n",
    "    ipt.MH0=MH0\n",
    "    if ipt.MH0<70:\n",
    "        mhcmin=70\n",
    "    else:\n",
    "        mhcmin=ipt.MH0\n",
    "        \n",
    "    ipt.MHC=np.random.uniform(mhcmin,700)\n",
    "    ipt.MA0=np.random.uniform(110,700)\n",
    "    ipt.lambda_L=np.exp( np.random.uniform(log(1E-5),log(2)) )*np.random.choice([1,-1])\n",
    "    mu2,lambda_3,lambda_4,lambda_5=phys_to_int(ipt.MH0,ipt.MA0,ipt.MHC,ipt.lambda_L,a.vev)\n",
    "    a.LHA.blocks['MINPAR'][3]='%0.8E       #lambda3' %lambda_3\n",
    "    a.LHA.blocks['MINPAR'][4]='%0.8E       #lambda4' %lambda_4\n",
    "    a.LHA.blocks['MINPAR'][5]='%0.8E       #lambda5' %lambda_5\n",
    "    a.LHA.blocks['MINPAR'][6]='%0.8E       #mu2' %mu2\n",
    "    mo=a.runmicromegas(Direct_Detection=True)\n",
    "    a.branchings(a.LHA_out.decays,min_pdg=25) #Creates a.Br_names pandas Series\n",
    "    ps['lambda_L']=ipt.lambda_L\n",
    "    ps=ps.append(pd.Series({'MH0':a.LHA_out.blocks['MASS'][35],\\\n",
    "                                        'MA0':a.LHA_out.blocks['MASS'][36],\\\n",
    "                                        'MHc':a.LHA_out.blocks['MASS'][37]}))\n",
    "    ps=ps.append(a.Series)\n",
    "    ps=ps.append(a.Br_names)\n",
    "    df=df.append(ps,ignore_index=True)"
   ]
  },
  {
   "cell_type": "code",
   "execution_count": 10,
   "metadata": {
    "collapsed": false
   },
   "outputs": [
    {
     "data": {
      "text/plain": [
       "lambda_L                    -7.703573e-02\n",
       "MA0                          1.130849e+02\n",
       "MH0                          7.500000e+01\n",
       "MHc                          1.365736e+02\n",
       "GFFermiconstant              1.166370e-05\n",
       "Zbosonpolemass               9.118870e+01\n",
       "alphasMZSMMSbar              1.187000e-01\n",
       "lambda1                      1.300000e-01\n",
       "lambda2                      0.000000e+00\n",
       "lambda3                      2.756997e-01\n",
       "lambda4                     -3.116144e-01\n",
       "lambda5                     -1.181568e-01\n",
       "mbmbSMMSbar                  4.180000e+00\n",
       "mtaupole                     1.776690e+00\n",
       "mtoppole                     1.735000e+02\n",
       "mu2                          1.029526e+04\n",
       "Omega_h2                     7.510000e-02\n",
       "proton_SI                    3.566000e-08\n",
       "proton_SD                    0.000000e+00\n",
       "neutron_SI                   3.637000e-08\n",
       "neutron_SD                   0.000000e+00\n",
       "sigmav                       4.060000e-26\n",
       "ID_br:~etR,~etR -> d3 D3     6.250000e-01\n",
       "ID_br:~etR,~etR -> Wp Wm     1.740000e-01\n",
       "ID_br:~etR,~etR -> g g       7.140000e-02\n",
       "ID_br:~etR,~etR -> u2 U2     5.790000e-02\n",
       "ID_br:~etR,~etR -> e3 E3     3.780000e-02\n",
       "ID_br:~etR,~etR -> Z Z       3.090000e-02\n",
       "ID_br:~etR,~etR -> A A       2.090000e-03\n",
       "ID_br:~etR,~etR -> d2 D2     3.240000e-04\n",
       "ID_br:~etR,~etR -> e2 E2     1.340000e-04\n",
       "O_chnl:~etR ~etR -> d3 D3    6.350620e-01\n",
       "O_chnl:~etR ~etR -> Wp Wm    1.606870e-01\n",
       "O_chnl:~etR ~etR -> g g      7.458800e-02\n",
       "O_chnl:~etR ~etR -> u2 U2    5.886600e-02\n",
       "O_chnl:~etR ~etR -> e3 E3    3.838700e-02\n",
       "O_chnl:~etR ~etR -> Z Z      2.976000e-02\n",
       "h0 ->  SBAR S                2.112660e-04\n",
       "h0 ->  DBAR D                5.873540e-07\n",
       "h0 ->  W- W+                 2.266242e-01\n",
       "h0 ->  GLUE GLUE             8.725568e-02\n",
       "h0 ->  PHOT PHOT             2.554208e-03\n",
       "h0 ->  MU+ MU-               2.276279e-04\n",
       "h0 ->  Z0 Z0                 2.484356e-02\n",
       "h0 ->  E+ E-                 5.095536e-09\n",
       "h0 ->  CBAR C                2.669293e-02\n",
       "h0 ->  UBAR U                1.123751e-07\n",
       "h0 ->  BBAR B                5.658842e-01\n",
       "h0 ->  TAU+ TAU-             6.570572e-02\n",
       "dtype: float64"
      ]
     },
     "execution_count": 10,
     "metadata": {},
     "output_type": "execute_result"
    }
   ],
   "source": [
    "ps"
   ]
  },
  {
   "cell_type": "code",
   "execution_count": 7,
   "metadata": {
    "collapsed": false
   },
   "outputs": [
    {
     "data": {
      "text/html": [
       "<div>\n",
       "<table border=\"1\" class=\"dataframe\">\n",
       "  <thead>\n",
       "    <tr style=\"text-align: right;\">\n",
       "      <th></th>\n",
       "      <th>GFFermiconstant</th>\n",
       "      <th>ID_br:~etR,~etR -&gt; Wp Wm</th>\n",
       "      <th>ID_br:~etR,~etR -&gt; Z Z</th>\n",
       "      <th>ID_br:~etR,~etR -&gt; d3 D3</th>\n",
       "      <th>ID_br:~etR,~etR -&gt; e3 E3</th>\n",
       "      <th>ID_br:~etR,~etR -&gt; g g</th>\n",
       "      <th>ID_br:~etR,~etR -&gt; u2 U2</th>\n",
       "      <th>MA0</th>\n",
       "      <th>MH0</th>\n",
       "      <th>MHc</th>\n",
       "      <th>...</th>\n",
       "      <th>mtaupole</th>\n",
       "      <th>mtoppole</th>\n",
       "      <th>mu2</th>\n",
       "      <th>neutron_SD</th>\n",
       "      <th>neutron_SI</th>\n",
       "      <th>proton_SD</th>\n",
       "      <th>proton_SI</th>\n",
       "      <th>sigmav</th>\n",
       "      <th>ID_br:~etR,~etR -&gt; A A</th>\n",
       "      <th>ID_br:~etR,~etR -&gt; d2 D2</th>\n",
       "    </tr>\n",
       "  </thead>\n",
       "  <tbody>\n",
       "    <tr>\n",
       "      <th>0</th>\n",
       "      <td>0.000012</td>\n",
       "      <td>0.884</td>\n",
       "      <td>0.1080</td>\n",
       "      <td>0.00682</td>\n",
       "      <td>0.000413</td>\n",
       "      <td>0.0005</td>\n",
       "      <td>0.000634</td>\n",
       "      <td>627.140555</td>\n",
       "      <td>59.999997</td>\n",
       "      <td>500.723032</td>\n",
       "      <td>...</td>\n",
       "      <td>1.77669</td>\n",
       "      <td>173.5</td>\n",
       "      <td>3581.01721</td>\n",
       "      <td>0</td>\n",
       "      <td>9.330000e-13</td>\n",
       "      <td>0</td>\n",
       "      <td>9.147000e-13</td>\n",
       "      <td>1.500000e-27</td>\n",
       "      <td>NaN</td>\n",
       "      <td>NaN</td>\n",
       "    </tr>\n",
       "    <tr>\n",
       "      <th>1</th>\n",
       "      <td>0.000012</td>\n",
       "      <td>0.394</td>\n",
       "      <td>0.0521</td>\n",
       "      <td>0.43600</td>\n",
       "      <td>0.026300</td>\n",
       "      <td>0.0498</td>\n",
       "      <td>0.040400</td>\n",
       "      <td>350.480407</td>\n",
       "      <td>75.000001</td>\n",
       "      <td>408.597745</td>\n",
       "      <td>...</td>\n",
       "      <td>1.77669</td>\n",
       "      <td>173.5</td>\n",
       "      <td>15721.37910</td>\n",
       "      <td>0</td>\n",
       "      <td>1.700000e-07</td>\n",
       "      <td>0</td>\n",
       "      <td>1.666000e-07</td>\n",
       "      <td>2.720000e-25</td>\n",
       "      <td>0.0014</td>\n",
       "      <td>0.000226</td>\n",
       "    </tr>\n",
       "  </tbody>\n",
       "</table>\n",
       "<p>2 rows × 53 columns</p>\n",
       "</div>"
      ],
      "text/plain": [
       "   GFFermiconstant  ID_br:~etR,~etR -> Wp Wm  ID_br:~etR,~etR -> Z Z  \\\n",
       "0         0.000012                     0.884                  0.1080   \n",
       "1         0.000012                     0.394                  0.0521   \n",
       "\n",
       "   ID_br:~etR,~etR -> d3 D3  ID_br:~etR,~etR -> e3 E3  ID_br:~etR,~etR -> g g  \\\n",
       "0                   0.00682                  0.000413                  0.0005   \n",
       "1                   0.43600                  0.026300                  0.0498   \n",
       "\n",
       "   ID_br:~etR,~etR -> u2 U2         MA0        MH0         MHc  \\\n",
       "0                  0.000634  627.140555  59.999997  500.723032   \n",
       "1                  0.040400  350.480407  75.000001  408.597745   \n",
       "\n",
       "             ...             mtaupole  mtoppole          mu2  neutron_SD  \\\n",
       "0            ...              1.77669     173.5   3581.01721           0   \n",
       "1            ...              1.77669     173.5  15721.37910           0   \n",
       "\n",
       "     neutron_SI  proton_SD     proton_SI        sigmav  \\\n",
       "0  9.330000e-13          0  9.147000e-13  1.500000e-27   \n",
       "1  1.700000e-07          0  1.666000e-07  2.720000e-25   \n",
       "\n",
       "   ID_br:~etR,~etR -> A A  ID_br:~etR,~etR -> d2 D2  \n",
       "0                     NaN                       NaN  \n",
       "1                  0.0014                  0.000226  \n",
       "\n",
       "[2 rows x 53 columns]"
      ]
     },
     "execution_count": 7,
     "metadata": {},
     "output_type": "execute_result"
    }
   ],
   "source": [
    "df"
   ]
  },
  {
   "cell_type": "code",
   "execution_count": 8,
   "metadata": {
    "collapsed": false
   },
   "outputs": [],
   "source": [
    "LUX=multicurvefit()\n",
    "LUX.read_json('lux2016.json')\n",
    "df['lux_SI']=LUX(df.MH0,verbose=False)"
   ]
  },
  {
   "cell_type": "code",
   "execution_count": null,
   "metadata": {
    "collapsed": true
   },
   "outputs": [],
   "source": []
  }
 ],
 "metadata": {
  "kernelspec": {
   "display_name": "Python 2",
   "language": "python",
   "name": "python2"
  },
  "language_info": {
   "codemirror_mode": {
    "name": "ipython",
    "version": 2
   },
   "file_extension": ".py",
   "mimetype": "text/x-python",
   "name": "python",
   "nbconvert_exporter": "python",
   "pygments_lexer": "ipython2",
   "version": "2.7.9"
  }
 },
 "nbformat": 4,
 "nbformat_minor": 0
}
