{
 "cells": [
  {
   "cell_type": "markdown",
   "metadata": {},
   "source": [
    "#  Inert doublet model"
   ]
  },
  {
   "cell_type": "markdown",
   "metadata": {},
   "source": [
    "According to this  [bug report](http://stauby.de/sarah_userforum/viewtopic.php?f=5&t=50#p252), we need to change by hand the file [prtcls1.mdl](../micromegas/SimplifiedDMIDM/work/models/prtcls1.mdl) to be sure that the DM candidate appears as the first defined $Z_2$-particle. In this case:\n",
    "\n",
    "` etR       |~etR    |~etR    |35 ...\n",
    "etI       |~etI    |~etI    |36 ...\n",
    "etp       |~etp    |~Etp    |37 ...`"
   ]
  },
  {
   "cell_type": "code",
   "execution_count": 1,
   "metadata": {
    "collapsed": false
   },
   "outputs": [
    {
     "name": "stdout",
     "output_type": "stream",
     "text": [
      "Populating the interactive namespace from numpy and matplotlib\n"
     ]
    }
   ],
   "source": [
    "%pylab inline"
   ]
  },
  {
   "cell_type": "code",
   "execution_count": 2,
   "metadata": {
    "collapsed": false
   },
   "outputs": [],
   "source": [
    "import pandas as pd\n",
    "import numpy as np\n",
    "import os, sys, inspect\n",
    "import commands\n",
    "from hep import *"
   ]
  },
  {
   "cell_type": "markdown",
   "metadata": {},
   "source": [
    "Define functions to change from general basis to physical basis "
   ]
  },
  {
   "cell_type": "code",
   "execution_count": 3,
   "metadata": {
    "collapsed": false
   },
   "outputs": [],
   "source": [
    "def run_official_idm(MHX,MH3,MHC,laL,la2,Mh,check=False):\n",
    "    pd.Series({'MHX':MHX,'MH3':MH3,'MHC':MHC,'laL':laL,'la2':la2,'Mh':Mh}).to_csv('mo.dat',sep=' ')\n",
    "    omegah2=-1\n",
    "    if os.path.isfile('../micromegas/IDM/main'):\n",
    "        mo=commands.getoutput(\"../micromegas/IDM/main mo.dat\")\n",
    "        \n",
    "    return mo\n",
    "\n",
    "def phys_to_int(mH,mA,mHc,lambda_L,v):\n",
    "    '''\n",
    "    See arXiv:1003.3125\n",
    "    '''\n",
    "    mH2=mH*mH;mA2=mA*mA;mHc2=mHc*mHc;v2=v*v\n",
    "    lambda_5=(mH2-mA2)/v2\n",
    "    mu2=mH2-lambda_L*v2\n",
    "    lambda_3=2.*(mHc2-mu2)/v2\n",
    "    lambda_4=-lambda_3-lambda_5+2*lambda_L\n",
    "    return mu2,lambda_3,lambda_4,lambda_5\n",
    "\n",
    "def int_to_phys(mu2,lambda_3,lambda_4,lambda_5,v):\n",
    "    '''\n",
    "    See arXiv:1003.3125\n",
    "    '''\n",
    "    v2=v*v\n",
    "    tachyons=False\n",
    "    mHc2=mu2+lambda_3*v2/2.\n",
    "    if mHc2<0: tachyons=True\n",
    "    mH2=mu2+(lambda_3+lambda_4+lambda_5)*v2/2.\n",
    "    if mH2<0: tachyons=True\n",
    "    mA2=mu2+(lambda_3+lambda_4-lambda_5)*v2/2.\n",
    "    if mA2<0: tachyons=True\n",
    "    if tachyons: print \"Warning: Tachyionic masses\"\n",
    "    return np.sqrt(np.abs(np.array([mH2,mA2,mHc2]))),(lambda_3+lambda_4+lambda_5)/2 "
   ]
  },
  {
   "cell_type": "markdown",
   "metadata": {},
   "source": [
    "Define function to run official micromegas IDM"
   ]
  },
  {
   "cell_type": "code",
   "execution_count": 4,
   "metadata": {
    "collapsed": true
   },
   "outputs": [],
   "source": [
    "def run_official_idm_lha(spc,check=False):\n",
    "    '''\n",
    "    Standard PDGs for inert scalars\n",
    "    '''\n",
    "    laL=(spc.blocks['MINPAR'][3]+spc.blocks['MINPAR'][4]+spc.blocks['MINPAR'][5])/2.\n",
    "    MHX=spc.blocks['MASS'][35];MH3=spc.blocks['MASS'][36];MHC=spc.blocks['MASS'][37]\n",
    "    la2=spc.blocks['MINPAR'][2];Mh=spc.blocks['MASS'][25]\n",
    "    return run_official_idm(MHX,MH3,MHC,laL,la2,Mh,check=check)"
   ]
  },
  {
   "cell_type": "markdown",
   "metadata": {},
   "source": [
    "\n",
    "## Check one point"
   ]
  },
  {
   "cell_type": "markdown",
   "metadata": {},
   "source": [
    "###  With SARAH implementation\n",
    "Based in [Scotogenic model implementation](https://github.com/restrepo/Scotogenic) by Avelino Vicente. Model files in the [SARAH/Models/SimplifiedDM/IDM](../SARAH/Models/SimplifiedDM/IDM) folder of this repo. We use below the python [hep](./hep.py) module to automalically manage input/output SARAH-Toolbox files (in a similar way to SSP)"
   ]
  },
  {
   "cell_type": "code",
   "execution_count": 5,
   "metadata": {
    "collapsed": false
   },
   "outputs": [],
   "source": [
    "a=hep(MODEL='SimplifiedDMIDM')"
   ]
  },
  {
   "cell_type": "markdown",
   "metadata": {},
   "source": [
    "`a-object` is an object with many attributes and methods. Use the tab to explore them. Some of them are\n",
    "* a.Series: [pandas](http://pandas.pydata.org/) Series object with the \"relevant\" variables \n",
    "* a.LHA: Input LesHouces file as [pyslha](https://pypi.python.org/pypi/pyslha/) object\n",
    "* a.runSPheno() -> a.LHA_out: return LHA output files as [pyslha](https://pypi.python.org/pypi/pyslha/) object\n",
    "* a.runmicromegas() -> a.runSPheno() -> Updated the `a-object`  with micrOMEGAS \"relevant\" output"
   ]
  },
  {
   "cell_type": "markdown",
   "metadata": {},
   "source": [
    "Benchmark BP1 from [arXiv:1504.05949](http://arxiv.org/pdf/1504.05949v3.pdf). See also: [arXiv:1207.0084](https://arxiv.org/pdf/1207.0084v2.pdf)"
   ]
  },
  {
   "cell_type": "code",
   "execution_count": 6,
   "metadata": {
    "collapsed": false
   },
   "outputs": [
    {
     "name": "stdout",
     "output_type": "stream",
     "text": [
      "expected: 66.0 300.0 300.0\n",
      "obtained: [  66.  300.  300.]\n"
     ]
    },
    {
     "ename": "SystemExit",
     "evalue": "ERROR: CalcOmega_with_DDetection_MOv4.2 not found",
     "output_type": "error",
     "traceback": [
      "An exception has occurred, use %tb to see the full traceback.\n",
      "\u001b[1;31mSystemExit\u001b[0m\u001b[1;31m:\u001b[0m ERROR: CalcOmega_with_DDetection_MOv4.2 not found\n"
     ]
    },
    {
     "name": "stderr",
     "output_type": "stream",
     "text": [
      "To exit: use 'exit', 'quit', or Ctrl-D.\n"
     ]
    }
   ],
   "source": [
    "v=a.vev\n",
    "#lambda_1=0.13\n",
    "ipt=pd.Series({'MHX':66,'MH3':300,'MHC':300,'lambda_L':0.0107}) #Official micromegas/IDM names\n",
    "mu2,lambda_3,lambda_4,lambda_5=phys_to_int(ipt.MHX,ipt.MH3,ipt.MHC,ipt.lambda_L,v)\n",
    "print 'expected:',ipt.MHX,ipt.MH3,ipt.MHC\n",
    "print 'obtained:',int_to_phys(mu2,lambda_3,lambda_4,lambda_5,v)[0]\n",
    "devnull=commands.getoutput('rm -f SPheno.spc.%s' %a.MODEL)\n",
    "a.LHA.blocks['SPHENOINPUT'].entries[55]='0               # Calculate one loop masses'\n",
    "a.LHA.blocks['MINPAR'][3]='%0.8E       #lambda3Input' %lambda_3\n",
    "a.LHA.blocks['MINPAR'][4]='%0.8E       #lambda4Input' %lambda_4\n",
    "a.LHA.blocks['MINPAR'][5]='%0.8E       #lambda5Input' %lambda_5\n",
    "a.LHA.blocks['MINPAR'][6]='%0.8E       #mEt2Input' %mu2\n",
    "moc=a.runmicromegas(Direct_Detection=True)\n",
    "print 'Omega h^2, SI proton, neutron =',a.Series.Omega_h2,a.Series.proton_SI,a.Series.neutron_SI\n",
    "print 'mu2,lambda_3,lambda_4,lambda_5',np.sqrt(mu2),lambda_3,lambda_4,lambda_5,(lambda_3+lambda_4+lambda_5)/2."
   ]
  },
  {
   "cell_type": "markdown",
   "metadata": {},
   "source": [
    "See full `LesHouches.in.SimplifiedDMIDM` and `SPheno.spc.SimplifiedDMIDM` in __Appendix 1__"
   ]
  },
  {
   "cell_type": "markdown",
   "metadata": {},
   "source": [
    "BP1 at one loop"
   ]
  },
  {
   "cell_type": "code",
   "execution_count": null,
   "metadata": {
    "collapsed": false
   },
   "outputs": [],
   "source": [
    "v=a.vev\n",
    "#lambda_1=0.13\n",
    "ipt=pd.Series({'MHX':65,'MH3':306,'MHC':306,'lambda_L':0.0107}) #Official micromegas/IDM names\n",
    "mu2,lambda_3,lambda_4,lambda_5=phys_to_int(ipt.MHX,ipt.MH3,ipt.MHC,ipt.lambda_L,v)\n",
    "print 'expected:',ipt.MHX,ipt.MH3,ipt.MHC\n",
    "print 'obtained:',int_to_phys(mu2,lambda_3,lambda_4,lambda_5,v)[0]\n",
    "devnull=commands.getoutput('rm -f SPheno.spc.%s' %a.MODEL)\n",
    "a.LHA.blocks['SPHENOINPUT'].entries[55]='1               # Calculate one loop masses'\n",
    "mu2=3200.\n",
    "a.LHA.blocks['MINPAR'][1]='%0.8E       #lambda3Input' %0.082\n",
    "a.LHA.blocks['MINPAR'][2]='%0.8E       #lambda3Input' %0.01\n",
    "a.LHA.blocks['MINPAR'][3]='%0.8E       #lambda3Input' %lambda_3\n",
    "a.LHA.blocks['MINPAR'][4]='%0.8E       #lambda4Input' %lambda_4\n",
    "a.LHA.blocks['MINPAR'][5]='%0.8E       #lambda5Input' %lambda_5\n",
    "a.LHA.blocks['MINPAR'][6]='%0.8E       #mEt2Input' %mu2\n",
    "moc=a.runmicromegas(Direct_Detection=True)\n",
    "print 'Omega h^2, SI proton, neutron =',a.Series.Omega_h2,a.Series.proton_SI,a.Series.neutron_SI\n",
    "print 'mu2,lambda_3,lambda_4,lambda_5',np.sqrt(mu2),lambda_3,lambda_4,lambda_5,(lambda_3+lambda_4+lambda_5)/2."
   ]
  },
  {
   "cell_type": "code",
   "execution_count": null,
   "metadata": {
    "collapsed": false
   },
   "outputs": [],
   "source": [
    "a.LHA_out.blocks['MASS'].entries"
   ]
  },
  {
   "cell_type": "markdown",
   "metadata": {},
   "source": [
    "###  With the official IDM in micrOMEGAS at \n",
    "[micromegas/IDM](../micromegas/IDM)"
   ]
  },
  {
   "cell_type": "code",
   "execution_count": null,
   "metadata": {
    "collapsed": false
   },
   "outputs": [],
   "source": [
    "omhof=run_official_idm_lha(a.LHA_out,check=True)\n",
    "omo=a.micromegas_output(omhof)\n",
    "print 'Omega h^2, SI proton, neutron=',omo.Omega_h2,omo.proton.SI,omo.neutron.SI\n",
    "print 'micrOMEGAS-IDM/SARAH',omo.proton.SI/a.Series.proton_SI,omo.neutron.SI/a.Series.neutron_SI"
   ]
  },
  {
   "cell_type": "markdown",
   "metadata": {},
   "source": [
    "See full micromegas input in __Appendix 2__"
   ]
  },
  {
   "cell_type": "markdown",
   "metadata": {},
   "source": [
    "## Scan $m_{H^0}$\n",
    "For the next two plots we fix:\n",
    "* $m_h=126\\ \\text{GeV}  $\n",
    "* $m_{A^0}= 701\\ \\text{GeV}  $\n",
    "* $m_{H^+}= 701\\ \\text{GeV}  $\n",
    "* $\\lambda_L=0.1$\n",
    "\n",
    "And vary \n",
    "* $40< m_{H^0}/\\text{GeV}< 700$"
   ]
  },
  {
   "cell_type": "code",
   "execution_count": null,
   "metadata": {
    "collapsed": false,
    "scrolled": true
   },
   "outputs": [],
   "source": [
    "df=pd.DataFrame()\n",
    "ipt=pd.Series({'MHX':40,'MH3':701,'MHC':701,'lambda_L':0.1})\n",
    "a.LHA.blocks['SPHENOINPUT'].entries[55]='0               # Calculate one loop masses'\n",
    "dm_masses=np.linspace(40,700,100)\n",
    "for MHX in dm_masses:\n",
    "    if np.where(dm_masses==MHX)[0][0]%10==0: #find the index of the array entry\n",
    "        print np.where(dm_masses==MHX)[0][0]\n",
    "    ipt.MHX=MHX\n",
    "    mu2,lambda_3,lambda_4,lambda_5=phys_to_int(ipt.MHX,ipt.MH3,ipt.MHC,ipt.lambda_L,a.vev)\n",
    "    a.LHA.blocks['MINPAR'][5]='%0.8E       #lambda5Input' %lambda_5\n",
    "    a.LHA.blocks['MINPAR'][3]='%0.8E       #lambda4Input' %lambda_3\n",
    "    a.LHA.blocks['MINPAR'][4]='%0.8E       #lambda3Input' %lambda_4\n",
    "    a.LHA.blocks['MINPAR'][6]='%0.8E       #mEt2Input' %mu2\n",
    "    a.runmicromegas(Direct_Detection=True)\n",
    "    a.Series=a.Series.append(ipt)\n",
    "    a.Series=a.Series.append(pd.Series({'MH0':a.LHA_out.blocks['MASS'][35],\\\n",
    "                                        'MA0':a.LHA_out.blocks['MASS'][36],\\\n",
    "                                        'MHc':a.LHA_out.blocks['MASS'][37]}))\n",
    "    omhof=run_official_idm_lha(a.LHA_out,check=True)\n",
    "    omo=a.micromegas_output(omhof)\n",
    "    a.Series['Omega_h2_official']=omo.Omega_h2\n",
    "    a.Series['proton_SI_official']=omo.proton.SI\n",
    "    a.Series['neutron_SI_official']=omo.neutron.SI\n",
    "    df=df.append(a.Series,ignore_index=True)"
   ]
  },
  {
   "cell_type": "markdown",
   "metadata": {},
   "source": [
    "### Relic density"
   ]
  },
  {
   "cell_type": "code",
   "execution_count": null,
   "metadata": {
    "collapsed": false
   },
   "outputs": [],
   "source": [
    "dfm=df[df.MH0<df.MHc]\n",
    "plt.semilogy(dfm.MH0,dfm.Omega_h2,'ko',label='SARAH')\n",
    "plt.semilogy(dfm.MH0,dfm.Omega_h2_official,'r-',label='micromegas/IDM')\n",
    "plt.xlabel(r'$m_{H^0}$ [GeV]',size=20)\n",
    "plt.ylabel(r'$\\Omega h^2$',size=20)\n",
    "plt.legend(loc='best')\n",
    "plt.savefig('omega.pdf')"
   ]
  },
  {
   "cell_type": "code",
   "execution_count": null,
   "metadata": {
    "collapsed": false
   },
   "outputs": [],
   "source": [
    "dfm=df[df.MH0<df.MHc]\n",
    "plt.semilogy(dfm.MH0,dfm.proton_SI,'k-',label='SARAH')\n",
    "plt.semilogy(dfm.MH0,dfm.proton_SI_official,'r--',label='micromegas/IDM')\n",
    "plt.xlabel(r'$m_{H^0}$ [GeV]',size=20)\n",
    "plt.ylabel(r'Direct Detection [pb]' ,size=20)\n",
    "plt.legend(loc='best')\n",
    "plt.savefig('dd.pdf')"
   ]
  },
  {
   "cell_type": "code",
   "execution_count": null,
   "metadata": {
    "collapsed": true
   },
   "outputs": [],
   "source": [
    "plt.plot(dfd.MH0,dfd.proton_SI_official/dfd.proton_SI,'k-')\n",
    "plt.xlabel(r'$m_{H^0}$ [GeV]',size=20)\n",
    "plt.ylabel(r'$\\frac{\\sigma_{\\rm Direct\\ Detection\\ SARAH}}{\\sigma_{\\rm Direct\\ Detection\\ micromegas/IDM}}$' ,size=30)"
   ]
  },
  {
   "cell_type": "markdown",
   "metadata": {},
   "source": [
    "### Conclusion\n",
    "The relic density is OK but the direct detection is a factor around 1.5 larger"
   ]
  },
  {
   "cell_type": "markdown",
   "metadata": {},
   "source": [
    "## Bug in SARAH\n",
    "The big problem appears for a degenate spectrum. For the next two plots we fix \n",
    "* $m_h=126\\ \\text{GeV} $\n",
    "* $\\lambda_L=0.1$\n",
    "\n",
    "And vary $m_{\\text{DM}}= m_{H^0}=m_{A^0}=m_{A^0}$\n",
    "* $90< m_{\\text{DM}}/\\text{GeV}< 700$\n",
    "\n",
    "After fix by hand [prtcls1.mdl](../micromegas/SimplifiedDMIDM/work/models/prtcls1.mdl), the problem disappear"
   ]
  },
  {
   "cell_type": "code",
   "execution_count": null,
   "metadata": {
    "collapsed": false
   },
   "outputs": [],
   "source": [
    "dfd=pd.DataFrame()\n",
    "ipt=pd.Series({'MHX':40,'MH3':120,'MHC':120,'lambda_L':0.1})\n",
    "a.LHA.blocks['SPHENOINPUT'].entries[55]='0               # Calculate one loop masses'\n",
    "dm_masses=np.linspace(90,700,100)\n",
    "for MHX in dm_masses:\n",
    "    if np.where(dm_masses==MHX)[0][0]%10==0: #find the index of the array entry\n",
    "        print np.where(dm_masses==MHX)[0][0]\n",
    "    ipt.MHX=MHX\n",
    "    ipt.MH3=MHX\n",
    "    ipt.MHC=MHX\n",
    "    mu2,lambda_3,lambda_4,lambda_5=phys_to_int(ipt.MHX,ipt.MH3,ipt.MHC,ipt.lambda_L,a.vev)\n",
    "    a.LHA.blocks['MINPAR'][5]='%0.8E       #lambda5Input' %lambda_5\n",
    "    a.LHA.blocks['MINPAR'][3]='%0.8E       #lambda4Input' %lambda_3\n",
    "    a.LHA.blocks['MINPAR'][4]='%0.8E       #lambda3Input' %lambda_4\n",
    "    a.LHA.blocks['MINPAR'][6]='%0.8E       #mEt2Input' %mu2\n",
    "    a.runmicromegas(Direct_Detection=True)\n",
    "    a.Series=a.Series.append(ipt)\n",
    "    a.Series=a.Series.append(pd.Series({'MH0':a.LHA_out.blocks['MASS'][35],\\\n",
    "                                        'MA0':a.LHA_out.blocks['MASS'][36],\\\n",
    "                                        'MHc':a.LHA_out.blocks['MASS'][37]}))\n",
    "    omhof=run_official_idm_lha(a.LHA_out,check=True)\n",
    "    omo=a.micromegas_output(omhof)\n",
    "    a.Series['Omega_h2_official']=omo.Omega_h2\n",
    "    a.Series['proton_SI_official']=omo.proton.SI\n",
    "    a.Series['neutron_SI_official']=omo.neutron.SI\n",
    "    dfd=dfd.append(a.Series,ignore_index=True)"
   ]
  },
  {
   "cell_type": "code",
   "execution_count": null,
   "metadata": {
    "collapsed": false
   },
   "outputs": [],
   "source": [
    "plt.semilogy(dfd.MH0,dfd.proton_SI,'k-',label='SARAH')\n",
    "plt.semilogy(dfd.MH0,dfd.proton_SI_official,'r--',label='micromegas/IDM')\n",
    "plt.xlabel(r'$m_{H^0}$ [GeV]',size=20)\n",
    "plt.ylabel(r'Direct Detection [pb]' ,size=20)\n",
    "plt.legend(loc='best')\n",
    "plt.savefig('ddd.pdf')"
   ]
  },
  {
   "cell_type": "markdown",
   "metadata": {},
   "source": [
    "### Conclusion\n",
    "In [prtcls1.mdl](../micromegas/SimplifiedDMIDM/work/models/prtcls1.mdl) the order of the particles may be important"
   ]
  },
  {
   "cell_type": "markdown",
   "metadata": {},
   "source": [
    "## Wrong benchmark\n",
    "We now will produce specific input/output files for the bug report\n",
    "### SARAH"
   ]
  },
  {
   "cell_type": "code",
   "execution_count": null,
   "metadata": {
    "collapsed": false
   },
   "outputs": [],
   "source": [
    "v=a.vev\n",
    "#lambda_1=0.13\n",
    "ipt=pd.Series({'MHX':600,'MH3':600,'MHC':600,'lambda_L':0.1}) #Official IDM micromegas names\n",
    "mu2,lambda_3,lambda_4,lambda_5=phys_to_int(ipt.MHX,ipt.MH3,ipt.MHC,ipt.lambda_L,v)\n",
    "print 'expected:',ipt.MHX,ipt.MH3,ipt.MHC\n",
    "print 'obtained:',int_to_phys(mu2,lambda_3,lambda_4,lambda_5,v)\n",
    "devnull=commands.getoutput('rm -f SPheno.spc.%s' %a.MODEL)\n",
    "a.LHA.blocks['SPHENOINPUT'].entries[55]='0               # Calculate one loop masses'\n",
    "a.LHA.blocks['MINPAR'][3]='%0.8E       #lambda3Input' %lambda_3\n",
    "a.LHA.blocks['MINPAR'][4]='%0.8E       #lambda4Input' %lambda_4\n",
    "a.LHA.blocks['MINPAR'][5]='%0.8E       #lambda5Input' %lambda_5\n",
    "a.LHA.blocks['MINPAR'][6]='%0.8E       #mEt2Input' %mu2\n",
    "moc=a.runmicromegas(Direct_Detection=True)\n",
    "print 'Omega_h2,DD =',a.Series.Omega_h2,a.Series.proton_SI,a.Series.neutron_SI"
   ]
  },
  {
   "cell_type": "markdown",
   "metadata": {},
   "source": [
    "* Input File: [LesHouches.in.SimplifiedDMIDM](./LesHouches.in.SimplifiedDMIDM)\n",
    "* Output File: [SPheno.spc.SimplifiedDMIDM](./SPheno.spc.SimplifiedDMIDM)"
   ]
  },
  {
   "cell_type": "code",
   "execution_count": null,
   "metadata": {
    "collapsed": false
   },
   "outputs": [],
   "source": [
    "%%bash\n",
    "#../micromegas/SimplifiedDMIDM/CalcOmega_with_DDetection_MOv4.2 SPheno.spc.SimplifiedDMIDM"
   ]
  },
  {
   "cell_type": "markdown",
   "metadata": {},
   "source": [
    "### micromegas/IDM"
   ]
  },
  {
   "cell_type": "code",
   "execution_count": null,
   "metadata": {
    "collapsed": false
   },
   "outputs": [],
   "source": [
    "omhof=run_official_idm_lha(a.LHA_out,check=True)\n",
    "omo=a.micromegas_output(omhof)\n",
    "print 'Omega h^2, SI proton, neutron=',omo.Omega_h2,omo.proton.SI,omo.neutron.SI"
   ]
  },
  {
   "cell_type": "code",
   "execution_count": null,
   "metadata": {
    "collapsed": false
   },
   "outputs": [],
   "source": [
    "%%bash\n",
    "#../micromegas/IDM/main mo.dat"
   ]
  },
  {
   "cell_type": "markdown",
   "metadata": {},
   "source": [
    "Input file: [mo.dat](./mo.dat)\n"
   ]
  },
  {
   "cell_type": "markdown",
   "metadata": {},
   "source": [
    "##  Appendix 1\n",
    "Full input/output for check point with\n",
    "* $m_h=126 $GeV\n",
    "* $m_[H^0]= 65\\ \\text{GeV}$\n",
    "* $m_[A^0]= 701\\ \\text{GeV}  $\n",
    "* $m_[H^+]= 701\\ \\text{GeV}  $\n",
    "* $\\lambda_L=0.01$"
   ]
  },
  {
   "cell_type": "code",
   "execution_count": null,
   "metadata": {
    "collapsed": false
   },
   "outputs": [],
   "source": [
    "cat LesHouches.in.SimplifiedDMIDM"
   ]
  },
  {
   "cell_type": "code",
   "execution_count": null,
   "metadata": {
    "collapsed": false
   },
   "outputs": [],
   "source": [
    "cat SPheno.spc.SimplifiedDMIDM"
   ]
  },
  {
   "cell_type": "markdown",
   "metadata": {},
   "source": [
    "## Appendix 2\n",
    "Input file for official IDM in micromegas"
   ]
  },
  {
   "cell_type": "code",
   "execution_count": null,
   "metadata": {
    "collapsed": false
   },
   "outputs": [],
   "source": [
    "cat mo.dat"
   ]
  },
  {
   "cell_type": "markdown",
   "metadata": {},
   "source": [
    "[Jupyter home](./draft.pdf)"
   ]
  },
  {
   "cell_type": "markdown",
   "metadata": {
    "collapsed": true
   },
   "source": [
    "See [Output LaTeX](./draft.tex) file"
   ]
  },
  {
   "cell_type": "code",
   "execution_count": null,
   "metadata": {
    "collapsed": false
   },
   "outputs": [],
   "source": [
    "%%bash\n",
    "pdflatex draft.tex > /dev/null"
   ]
  },
  {
   "cell_type": "markdown",
   "metadata": {},
   "source": [
    "[[PDF]](./draft.pdf)"
   ]
  }
 ],
 "metadata": {
  "kernelspec": {
   "display_name": "Python 2",
   "language": "python",
   "name": "python2"
  },
  "language_info": {
   "codemirror_mode": {
    "name": "ipython",
    "version": 2
   },
   "file_extension": ".py",
   "mimetype": "text/x-python",
   "name": "python",
   "nbconvert_exporter": "python",
   "pygments_lexer": "ipython2",
   "version": "2.7.9"
  }
 },
 "nbformat": 4,
 "nbformat_minor": 0
}
