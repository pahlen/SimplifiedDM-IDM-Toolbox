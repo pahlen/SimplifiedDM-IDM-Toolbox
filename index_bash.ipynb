{
 "cells": [
  {
   "cell_type": "markdown",
   "metadata": {},
   "source": [
    "# SARAH Toolbox\n",
    "## Collection of models to be run from a docker image\n",
    "Launch virtual docker image: \n",
    "[![Binder](http://mybinder.org/badge.svg)](http://mybinder.org/repo/restrepo/SimplifiedDM-IDM-Toolbox)\n",
    "\n",
    "[Jupyter home](./) (Files, New -> Terminal, etc)\n",
    "[![Home](http://www.incredimail.com/images/nav%20bar/home-icon.png)](./)\n",
    "\n",
    "### Highly recommended:\n",
    "[Run from a terminal](../terminals/1):\n",
    "[![T](http://mysitemyway.com/_shared/images/icons/full_color/terminal.png)](../terminals/1)\n",
    "## Implemented models\n",
    "Each model is to be run in a specific virtual machine. Follow the binder button in each github repo\n",
    "* `SARAH/Models/SSDM/` (for test purposes)\n",
    "* `SARAH/Models/SM/HighScale` (For RGE running: ./butler SM/HighScale) [Repo](https://github.com/restrepo/SM-Toolbox/)\n",
    "* `SARAH/Models/SimplifiedDM/IDM` (This image)\n",
    "\n",
    "## Instructions to compile the model\n",
    "In `SPHENO` and `micromegas`\n",
    "\n",
    "See possible analysis based on the models in  [./tests](./tests) folder.\n",
    "\n",
    "Below we define the model to be compiled:"
   ]
  },
  {
   "cell_type": "code",
   "execution_count": 1,
   "metadata": {
    "collapsed": false
   },
   "outputs": [
    {
     "name": "stdout",
     "output_type": "stream",
     "text": []
    }
   ],
   "source": [
    "MODEL=SimplifiedDMIDM"
   ]
  },
  {
   "cell_type": "markdown",
   "metadata": {},
   "source": [
    "To better control in the outputs, it is recomended that the commands be executed [from a terminal](../terminals/1). Only possible errors are to be shown below"
   ]
  },
  {
   "cell_type": "code",
   "execution_count": 2,
   "metadata": {
    "collapsed": false
   },
   "outputs": [
    {
     "name": "stdout",
     "output_type": "stream",
     "text": []
    }
   ],
   "source": [
    "./compile_spheno_directly.sh $MODEL > /dev/null"
   ]
  },
  {
   "cell_type": "markdown",
   "metadata": {},
   "source": [
    "make a work dir"
   ]
  },
  {
   "cell_type": "code",
   "execution_count": 3,
   "metadata": {
    "collapsed": false
   },
   "outputs": [
    {
     "name": "stdout",
     "output_type": "stream",
     "text": []
    }
   ],
   "source": [
    "mkdir -p test_compilation\n",
    "cd test_compilation"
   ]
  },
  {
   "cell_type": "code",
   "execution_count": 4,
   "metadata": {
    "collapsed": false
   },
   "outputs": [
    {
     "name": "stdout",
     "output_type": "stream",
     "text": []
    }
   ],
   "source": [
    "LHAINPUT=../SPHENO/$MODEL/Input_Files/LesHouches.in.$MODEL\n",
    "if [ -f ../SARAH/Models/$MODEL/LesHouches.in.$MODEL ]; then\n",
    "   LHAINPUT=../SARAH/Models/$MODEL/LesHouches.in.$MODEL\n",
    "fi"
   ]
  },
  {
   "cell_type": "markdown",
   "metadata": {},
   "source": [
    "Run SPheno and generate LHA output file"
   ]
  },
  {
   "cell_type": "code",
   "execution_count": 5,
   "metadata": {
    "collapsed": false
   },
   "outputs": [
    {
     "name": "stdout",
     "output_type": "stream",
     "text": [
      " Calculating branching ratios and decay widths\r\n",
      " Calculating low energy constraints\r\n",
      " Writing output files\r\n",
      " Finished!\r\n"
     ]
    }
   ],
   "source": [
    "cp $LHAINPUT . #input\n",
    "../SPHENO/bin/SPheno$MODEL LesHouches.in.$MODEL"
   ]
  },
  {
   "cell_type": "markdown",
   "metadata": {},
   "source": [
    "Compile `micromegas` model"
   ]
  },
  {
   "cell_type": "code",
   "execution_count": 6,
   "metadata": {
    "collapsed": false
   },
   "outputs": [
    {
     "name": "stdout",
     "output_type": "stream",
     "text": []
    }
   ],
   "source": [
    "cd ../micromegas\n",
    "make > /dev/null\n",
    "make > /dev/null\n",
    "cd $MODEL\n",
    "make main=CalcOmega.cpp > /dev/null\n",
    "make main=CalcOmega_with_DDetection_MOv4.2.cpp > /dev/null\n",
    "cd ../IDM\n",
    "make main=main.c > /dev/null"
   ]
  },
  {
   "cell_type": "markdown",
   "metadata": {},
   "source": [
    "Run micromegas"
   ]
  },
  {
   "cell_type": "code",
   "execution_count": 7,
   "metadata": {
    "collapsed": false
   },
   "outputs": [
    {
     "name": "stdout",
     "output_type": "stream",
     "text": []
    }
   ],
   "source": [
    "cd ../../test_compilation"
   ]
  },
  {
   "cell_type": "code",
   "execution_count": 8,
   "metadata": {
    "collapsed": false
   },
   "outputs": [
    {
     "name": "stdout",
     "output_type": "stream",
     "text": [
      "\r\n",
      "Masses of odd sector Particles:\r\n",
      "~etR : MetR  =    10.0 || ~etp : Metp  =    10.0 || ~etI : MetI  =    10.0 \r\n",
      "\r\n",
      "Xf=2.73e+01 Omega h^2=7.78e-04\r\n",
      "\r\n",
      "# Channels which contribute to 1/(omega) more than 1%.\r\n",
      "# Relative contributions in % are displayed\r\n",
      "   93% ~etp ~Etp ->A A \r\n",
      "    1% ~etp ~Etp ->u1 U1 \r\n",
      "    1% ~etp ~Etp ->u2 U2 \r\n",
      "\r\n",
      "==== Calculation of CDM-nucleons amplitudes  =====\r\n",
      "         TREE LEVEL\r\n",
      "CDM-nucleon micrOMEGAs amplitudes:\r\n",
      "proton:  SI  -4.458E-12  SD  0.000E+00\r\n",
      "neutron: SI  -4.502E-12  SD  0.000E+00\r\n",
      "         BOX DIAGRAMS\r\n",
      "CDM-nucleon micrOMEGAs amplitudes:\r\n",
      "proton:  SI  -4.458E-12  SD  0.000E+00\r\n",
      "neutron: SI  -4.502E-12  SD  0.000E+00\r\n",
      "CDM-nucleon cross sections[pb]:\r\n",
      " proton  SI 7.259E-15  SD 0.000E+00\r\n",
      " neutron SI 7.404E-15  SD 0.000E+00\r\n",
      "\r\n",
      "======== Direct Detection ========\r\n",
      "73Ge: Total number of events=2.74E-09 /day/kg\r\n",
      "Number of events in 10 - 50 KeV region=6.72E-12 /day/kg\r\n",
      "131Xe: Total number of events=5.56E-09 /day/kg\r\n",
      "Number of events in 10 - 50 KeV region=1.30E-14 /day/kg\r\n",
      "23Na: Total number of events=5.36E-10 /day/kg\r\n",
      "Number of events in 10 - 50 KeV region=3.36E-11 /day/kg\r\n",
      "I127: Total number of events=5.36E-09 /day/kg\r\n",
      "Number of events in 10 - 50 KeV region=3.20E-14 /day/kg\r\n"
     ]
    }
   ],
   "source": [
    "../micromegas/$MODEL/CalcOmega_with_DDetection_MOv4.2 SPheno.spc.$MODEL"
   ]
  },
  {
   "cell_type": "markdown",
   "metadata": {
    "collapsed": true
   },
   "source": [
    "## Go now to: \n",
    "[main ipyrhon file](./tests/SimplifiedDM-IDM.ipynb)\n",
    "\n",
    "Or to some specific scan in: [Lux2016 notebook](./tests/Lux2016.ipynb)"
   ]
  }
 ],
 "metadata": {
  "kernelspec": {
   "display_name": "Bash",
   "language": "bash",
   "name": "bash"
  },
  "language_info": {
   "codemirror_mode": "shell",
   "file_extension": ".sh",
   "mimetype": "text/x-sh",
   "name": "bash"
  }
 },
 "nbformat": 4,
 "nbformat_minor": 0
}
